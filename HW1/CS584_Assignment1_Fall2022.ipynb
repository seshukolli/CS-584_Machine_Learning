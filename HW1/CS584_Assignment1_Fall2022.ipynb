{
 "cells": [
  {
   "cell_type": "markdown",
   "metadata": {
    "id": "8iwaee_T-Urj"
   },
   "source": [
    "# Assignment 1 - Linear Regression\n"
   ]
  },
  {
   "cell_type": "markdown",
   "metadata": {
    "id": "cxzbEg0mcCBj"
   },
   "source": [
    "Due by 11:59pm, Sep. 25, 2022"
   ]
  },
  {
   "cell_type": "markdown",
   "metadata": {
    "id": "pyGrk2X_J_1h"
   },
   "source": [
    "## Theory Questions (Each question is worth 5 points)"
   ]
  },
  {
   "cell_type": "markdown",
   "metadata": {
    "id": "wsrp-D1YKGjT"
   },
   "source": [
    "1.  Explain the differences between supervised, semi-surpervised, weakly-supervised and unsupervised learning.\n",
    "\n"
   ]
  },
  {
   "cell_type": "markdown",
   "metadata": {
    "id": "zHn2QSj8KLym"
   },
   "source": [
    "**Answer:**\n",
    "    \n",
    "    \n",
    "    Supervised Learning: In here the moedel is trained with the labeled set of data. The mapping function is responsible\n",
    "                         for matching the inputs with the outputs by creating the target function. Here we have Data(X) \n",
    "                         and target(Y), which are mapped. There are two types.\n",
    "            \n",
    "                          1.Clasification \n",
    "                           2.Regression\n",
    "                    EX: Linear regression, Random forest, SVM.\n",
    "    Semi-Supervised: Only few data is labeled and remaining data is unlabeled, But it gives better results than labeled \n",
    "                    data, when working with real-world data.Here it is combination of both supervised and unsupervised, \n",
    "                    it can create a model based on the input data, and also can map between the inputs and outputs using\n",
    "                    mapping function.\n",
    "                     Types:  1.Classification\n",
    "                             2. Regression\n",
    "                             3.Clustering\n",
    "                             4. Association\n",
    "                    EX: Self-Training,Mixture models, semi-supervised svm.\n",
    "    Weakly-supervised: Here the source data is limited or insufficient that is taken for the supervision, for labeling the                          large set of training data. \n",
    "                    EX: Amazon reviews for sentiments\n",
    "    Unsupervised: We do not have any labeled set of data in here. unlabeled data inputs are analyzed. There is no \n",
    "                   supervision for learning the model. The inputs are used to create the model. Here we only have data(x). \n",
    "                   The types are\n",
    "                   1.Clustering\n",
    "                   2.Association\n",
    "                EX: PCA, K-means,Hierarchical clustering."
   ]
  },
  {
   "cell_type": "markdown",
   "metadata": {
    "id": "qrRM53coKMA4"
   },
   "source": [
    "2. Explain the difference between regression and classification.\n",
    "\n"
   ]
  },
  {
   "cell_type": "markdown",
   "metadata": {
    "id": "v8CkQ13NKMHh"
   },
   "source": [
    "\n",
    "**Answer:**\n",
    "    \n",
    "    \n",
    "    The classification and regression are under suervised learning, here we have inut data(X) and target(y)\n",
    "    \n",
    "    Classification:\n",
    "        The goal of the classification is to predicting the distinct class label. Here , the data is labeled into two\n",
    "        classes is called the binary classification and more than two classes are known as multi-class classification. \n",
    "        This is supervised learning algorithm and the dependent variable is categorial. Here we classify discrete values \n",
    "        like True/False, Yes/No, Male/Female etc \n",
    "        \n",
    "        Tyes of Classification: 1.Classification Predictive Modeling.\n",
    "                                2. Binary classification.\n",
    "                                3.Multi-label classification.\n",
    "                                4.Multi-class classification.\n",
    "        EX:Identifying weather e-mail is spam or not is classification problem.\n",
    "            \n",
    "    Regression:\n",
    "        The task is to predict the continuous quantity. It also can handle multiple input variables is called multivariate\n",
    "        regression problem. This is supervised learning algorithm. The dependent variables are continuous. root mean squared \n",
    "        error is used to know the model fit. here we have continues values such as Age, Salary\n",
    "        Types of Regression models: 1. Linear Regression\n",
    "                                    2.Logistic Regression\n",
    "                                    3.Polynomial Regression\n",
    "                                    4. Bayesian Linear Regression                       \n",
    "        Ex: Predicting the price of a stock over a period of time will comes under the regression problem.\n",
    "            "
   ]
  },
  {
   "cell_type": "markdown",
   "metadata": {
    "id": "VzdqoLMNKMKk"
   },
   "source": [
    "3. Explain how to perform N-fold cross-validation.\n",
    "\n"
   ]
  },
  {
   "cell_type": "markdown",
   "metadata": {
    "id": "7SaKRIxuKMNg"
   },
   "source": [
    "\n",
    "**Answer:**\n",
    "    \n",
    "    The N-fold cross validation can be implemented through the library of scikit-learn. It is an standard procedure for\n",
    "    performance estimation of machine learning algorithm on the dataset.This can help to build generalized model which \n",
    "    can perform well on unseen data.\n",
    "    The N-fold cross validation is used to partition the dataset, it will separate the data into testing and traing sets.\n",
    "    Algorithm steps: \n",
    "        \n",
    "                    1.Take the number of folds, you can choose any number less than the datasets length\n",
    "                    2. Then split the dataset into K equal parts.\n",
    "                    3. choose the K-1 folds as training dataset. For each cross validation you must train new model\n",
    "                     which had trained on the previous iteration.\n",
    "                    4. Validate the test set.\n",
    "                    5. Then save the results of the validation.\n",
    "                    6. Repete the stes K times. at every iteration we use remaining fold as test set, you should have \n",
    "                       validate the model  on every fold that that you have.\n",
    "                    "
   ]
  },
  {
   "cell_type": "markdown",
   "metadata": {
    "id": "8h9yCZyrKMQO"
   },
   "source": [
    "4. Explain the difference between training and testing error.\n",
    "\n"
   ]
  },
  {
   "cell_type": "markdown",
   "metadata": {
    "id": "8nWiNUJRKMTK"
   },
   "source": [
    "\n",
    "**Answer:**\n",
    "\n",
    "\n",
    "    Training Error:\n",
    "        The training error is the result of machine learning model by using training set for predictions. If the training\n",
    "        error is high then the model flexibility is poor. Here the increase in flexibility and decrease in prediction error \n",
    "        is corresponds to the High bias and low variance. The error can be found by seen the difference between actual \n",
    "        output(y)and the prediction. This is also considered as overfitting.\n",
    "    Testing Error:\n",
    "        The testing error from the machine learning model by using the testing dataset to predict the response. If we have \n",
    "        low bias and high varience then then the  flexibility of the model is incresed and  prediction error is increased. \n",
    "        Then it leads to the overfitting and its not considered as an good model for predictions."
   ]
  },
  {
   "cell_type": "markdown",
   "metadata": {
    "id": "jOqbrjOPKMV_"
   },
   "source": [
    "5. Explain where the errors come from.\n",
    "\n"
   ]
  },
  {
   "cell_type": "markdown",
   "metadata": {
    "id": "CRhwVqVXKMZC"
   },
   "source": [
    "\n",
    "**Answer:**\n",
    "    \n",
    "    The error is nothing but the difference between the actual and predicted output. For instance, if we take linear \n",
    "    regression we will take theta0 and theta1 as random values and also take learning rate. At every epoch it was in \n",
    "    training it will check weather the predictions are right by using the loss function, if there is an noticeable \n",
    "    difference then it is considered as error, So in the next iteration based on learning rate it will change the \n",
    "    values of theta0 and theta1 and get better results. This process will continue until we reach the local minima."
   ]
  },
  {
   "cell_type": "markdown",
   "metadata": {
    "id": "b5kfgztJKMcg"
   },
   "source": [
    "6. Explain the standard steps to perform machine learning.\n",
    "\n"
   ]
  },
  {
   "cell_type": "markdown",
   "metadata": {
    "id": "5Tuk6yX8KVky"
   },
   "source": [
    "\n",
    "**Answer:**\n",
    "    \n",
    "    The steps to perform:\n",
    "        1.Collecting Data:\n",
    "            This the basic step collecting the resources for creating the machine learning model. We need to make sure \n",
    "            the data which we aquaried is legitimate. To get right predictions/results we need right source of data.\n",
    "        2.Preparing the data:\n",
    "            In this phase we need to structure the data. We have to remove the null and duplicate values and type\n",
    "            conversions.This will helps the model to analyse the relations in data easily. And then we split the data \n",
    "            in two parts, which are training and testing datasets, training set is used to train the model and testing \n",
    "            set is used to predict the outcomes of the model.\n",
    "        3.Choosing the model:\n",
    "            After dividing the sets,there are many models available but we have to choose based on our need. We need to \n",
    "            choose the model which gives better predictions with less cost.\n",
    "        4.Training the model:\n",
    "            Here the training dataset is used which we had structured to give to the model, we need to gather as much data \n",
    "            as possible to give to the training model to get better predictions. By getting trained more and more with \n",
    "            new data the model will capable for better predictions\n",
    "        5.Evaluating the model:\n",
    "            To evaluate the model performance we need to train the model with new data or unseen data, which was not used \n",
    "            for training. If the same data was used again for testing then we will get accurate results. Now you will get \n",
    "            to know your model performance and speed.\n",
    "        6.Perameter tuning\n",
    "            After seeing the predictions we will get to know how the model was working for specific dataset. Now if we want \n",
    "            the model to be more accurate then we will adjust the perameters for better model.\n",
    "        7.Making predictions:\n",
    "            Now we will give the unseen data to our model as an input, to get the accurate predictions."
   ]
  },
  {
   "cell_type": "markdown",
   "metadata": {
    "id": "IuL4msrgKXX2"
   },
   "source": [
    "7. Let  ${(x^{(i)}, y^{(i)})}_{i=1}^m$ be a set of training examples where $y_{i} \\in \\mathbb{R}$ and $x_{i} \\in \\mathbb{R}^n$, write a linear regression model using model parameter $\\theta_j$ and features $x_1,...,x_n$.\n",
    "\n"
   ]
  },
  {
   "cell_type": "markdown",
   "metadata": {
    "id": "hcN7qKJdKY4A"
   },
   "source": [
    "\n",
    "**Answer:**\n",
    "\n",
    "Linear Regression model:  y$^{(i)}$ = ${𝜃_{0}} +   {_{j=1}^{n}}\\sum (𝜃_{j} . x^{(i)}_{j})$\n",
    "\n",
    "Where,\n",
    "\n",
    "y$^{(i)}$ = dependent variable or target variable\n",
    "\n",
    "${𝜃_{0}}$ = bias or y-intercept\n",
    "\n",
    "${𝜃_{j}}$ = coefficients or weights\n",
    "\n",
    "$x^{(i)}_{j}$ = independent variable value at $i^{th}$ training example\n",
    "\n",
    "${i}$ = $i^{th}$ training example\n",
    "\n",
    "${n}$ = ${n}$ model parameters\n",
    "\n",
    "${m}$ = ${m}$ training examples\n",
    "\n",
    "\n",
    "Here, we have m training examples and y$^{(i)}$ is calculated by using the above formula. ${𝜃_{0}}$ is the bias and ${𝜃_{j_{(1....n)}}}$ is the model parameters or weights belonging to the corresponding features ${x^{(i)}_{j}}$ .\n",
    "\n",
    "    "
   ]
  },
  {
   "cell_type": "markdown",
   "metadata": {
    "id": "E1eL_l3VKY_d"
   },
   "source": [
    "8. Write the objective function that can be used to determine the regression model parameters. How is this objective function will be used to find model parameters?\n",
    "\n"
   ]
  },
  {
   "cell_type": "markdown",
   "metadata": {
    "id": "NDIGS8sGKaPO"
   },
   "source": [
    "\n",
    "**Answer:**\n",
    "    \n",
    "    The objective function is a function which is used to maximize or minimize the eroor, There are two sections in here,\n",
    "    1) Objective Function for Regression\n",
    "    2) Objective Function for Classification\n",
    "    Objective function for regression model:\n",
    "        In regression model we will map the inut data(X) with the target data(Y). When we do predictions then, compare the \n",
    "        actual data with prediction data by using loss function to know the error. The objective finction is used to \n",
    "        minimize the error by using some function like least square error, mean absolute error, mean error. By minimizing \n",
    "        the error at each iteration to get near the local minima, that is where the best fit funchion fits.\n",
    "        \n",
    "        By using the objective we can choose the parameters like using gradient desent. After abserving the we will get to  \n",
    "        know,which function we have to use to get better parameters, then we will get best fit model. Here, we will adhjust \n",
    "        the values based on our requried output."
   ]
  },
  {
   "cell_type": "markdown",
   "metadata": {
    "id": "x5ZtULZ_KaV7"
   },
   "source": [
    "9. Let $\\theta$ =[1,-2,3] be the model parameters obtained for linear regression. Let $x$ =[4,6] be a feature vector. Find the value $y$ that will be obtained by the linear regression for the feature vector $x$.\n",
    "\n"
   ]
  },
  {
   "cell_type": "markdown",
   "metadata": {
    "id": "Q6FU7JqvKcD3"
   },
   "source": [
    "\n",
    "**Answer:**"
   ]
  },
  {
   "cell_type": "code",
   "execution_count": 34,
   "metadata": {},
   "outputs": [
    {
     "name": "stdout",
     "output_type": "stream",
     "text": [
      "y = 11\n"
     ]
    }
   ],
   "source": [
    "import numpy as np\n",
    "theta=np.array([1,-2,3])\n",
    "x=np.array([4,6])\n",
    "y=theta[0]+np.dot(theta[1:],x)\n",
    "print('y =',y)"
   ]
  },
  {
   "cell_type": "markdown",
   "metadata": {
    "id": "PMI8niT2X0t-"
   },
   "source": [
    "   10. Suppose an artifial neuron has weight W = [0.3, 0.5], bias b = 0.1 and a   sigmoid activation function. If the input data = [2,3], what is the output  value of the neuron?"
   ]
  },
  {
   "cell_type": "markdown",
   "metadata": {
    "id": "At5Tu-T-ZXi-"
   },
   "source": [
    "**Answer:**"
   ]
  },
  {
   "cell_type": "code",
   "execution_count": 53,
   "metadata": {},
   "outputs": [
    {
     "name": "stdout",
     "output_type": "stream",
     "text": [
      "y= 0.9002495108803148\n"
     ]
    }
   ],
   "source": [
    "w=np.array([0.3,0.5])\n",
    "b=0.1\n",
    "x=[2,3]\n",
    "y=b+np.dot(w,x)\n",
    "s=1/(1+np.exp(-y))\n",
    "print('y=' ,s)"
   ]
  },
  {
   "cell_type": "markdown",
   "metadata": {
    "id": "33R0cT34KCLf"
   },
   "source": [
    "## Programming Questions (50 points, each part is worth 10 points)"
   ]
  },
  {
   "cell_type": "markdown",
   "metadata": {
    "id": "2c0WEN4EJ4K3"
   },
   "source": [
    "In this assignment, you are going to implement your own Simple Linear Regression function. \n",
    "\n",
    "Please notice: **No library versions of linear regression are allowed**. "
   ]
  },
  {
   "cell_type": "code",
   "execution_count": 45,
   "metadata": {
    "id": "muBoDkj1iiSW"
   },
   "outputs": [],
   "source": [
    "# Do not edit the codes in this cell\n",
    "# load required library\n",
    "from sklearn.datasets import load_diabetes\n",
    "import matplotlib.pyplot as plt\n",
    "import numpy as np\n",
    "# load dataset\n",
    "X, y = load_diabetes(return_X_y=True)\n",
    "X = X[:, 2]\n",
    "#print(load_diabetes().feature_names)\n",
    "#load_diabetes().target"
   ]
  },
  {
   "cell_type": "markdown",
   "metadata": {
    "id": "TsgncCfbbllf"
   },
   "source": [
    "**Part I** \n",
    "________\n",
    "\n",
    "Using the given dataset above, draw a scatter plot.\n",
    "1. Plot title and xlabel, ylabel are required;\n",
    "2. Show the plot in the Output.\n"
   ]
  },
  {
   "cell_type": "markdown",
   "metadata": {
    "id": "kFXSeutO95mK"
   },
   "source": [
    "***Example plot***\n",
    "\n",
    "![download (4).png](data:image/png;base64,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)"
   ]
  },
  {
   "cell_type": "code",
   "execution_count": 46,
   "metadata": {
    "id": "YcMTIN2_iPrC",
    "pycharm": {
     "name": "#%%\n"
    }
   },
   "outputs": [
    {
     "data": {
      "text/plain": [
       "<function matplotlib.pyplot.show(close=None, block=None)>"
      ]
     },
     "execution_count": 46,
     "metadata": {},
     "output_type": "execute_result"
    },
    {
     "data": {
      "image/png": "[encoded data removed]",
      "text/plain": [
       "<Figure size 432x288 with 1 Axes>"
      ]
     },
     "metadata": {
      "needs_background": "light"
     },
     "output_type": "display_data"
    }
   ],
   "source": [
    "# draw the raw data plot\n",
    "# TODO\n",
    "plt.xlabel(\"BMI\")\n",
    "plt.ylabel(\"Disease Progression\")\n",
    "plt.title(\"Diabetes Prediction\")\n",
    "plt.scatter(X,y)\n",
    "plt.show"
   ]
  },
  {
   "cell_type": "markdown",
   "metadata": {
    "id": "fnMAVpoviPrF",
    "pycharm": {
     "name": "#%% md\n"
    }
   },
   "source": [
    "**Part II** \n",
    "___________\n",
    "\n",
    "Initialize theta and construct cost function for the upcoming gradient decent.\n",
    "1. Initialize theta, print it out;\n",
    "2. Construct Mean Square Error loss function;\n",
    "3. Calcualte the cost using initial theta, X and y, and print the result out."
   ]
  },
  {
   "cell_type": "code",
   "execution_count": 47,
   "metadata": {
    "id": "9Foim5FziPq9",
    "pycharm": {
     "name": "#%%\n"
    }
   },
   "outputs": [],
   "source": [
    "# initialize theta\n",
    "# TODO\n",
    "theta0=2  #Theta 0\n",
    "theta1=2  #Theta 1"
   ]
  },
  {
   "cell_type": "code",
   "execution_count": 48,
   "metadata": {
    "id": "LeRyPvYD3oKw"
   },
   "outputs": [],
   "source": [
    "# define cost function \n",
    "# TODO\n",
    "def mean_squared_error(y1,y_predicted):\n",
    "    cost = np.sum((y1-y_predicted)**2) / len(y1)\n",
    "    return cost"
   ]
  },
  {
   "cell_type": "code",
   "execution_count": 49,
   "metadata": {
    "id": "XgGW6F3h3oSF"
   },
   "outputs": [
    {
     "name": "stdout",
     "output_type": "stream",
     "text": [
      "Theta0 [2],Theta1 [2]\n",
      "Total Cost:  28461.36483927254\n"
     ]
    }
   ],
   "source": [
    "# calculate cost by calling the function\n",
    "# TODO\n",
    "print(f\"Theta0 [{theta0}],Theta1 [{theta1}]\")\n",
    "y_predicted=theta0+theta1*X\n",
    "print('Total Cost: ',mean_squared_error(y,y_predicted))"
   ]
  },
  {
   "cell_type": "markdown",
   "metadata": {
    "id": "yTOIzu0A31uM",
    "pycharm": {
     "name": "#%% md\n"
    }
   },
   "source": [
    "**Part III** \n",
    "___________\n",
    "\n",
    "Gradient descent to find the optimal fit.\n",
    "1. Initialize learning rate and epoch, try to explain your reasons for the values chosen;\n",
    "2. Construct gradient descent function, which updates the theta and meanwhile records all the history cost;\n",
    "3. Call the function for the optimal fit. Print out the final theta and final cost.\n"
   ]
  },
  {
   "cell_type": "markdown",
   "metadata": {
    "id": "j9jL3Hi66OUl"
   },
   "source": [
    "**Question: How did you choose your lr and epoch number?**\n",
    "\n",
    "**Answer:**\n",
    "    \n",
    "    Learning Rate:\n",
    "    There are different ways to choose learning rate. The natural way is to ramdomly choose one number and observe the \n",
    "    results based on the loss. if the loss is more then we expected then we change the learning rate. The learning rate \n",
    "    is high then it will take large steps or if the rate is low then the steps are small towords the local minima.\n",
    "    Epoch:\n",
    "        Epoch is the number of iteration made to get better results. Each time the iteration is made it will change the \n",
    "        values weight and bias to get the better result.These iterations will be manually given, it will continue to iterate\n",
    "        untill it get the best fit finction."
   ]
  },
  {
   "cell_type": "code",
   "execution_count": 50,
   "metadata": {
    "id": "xlyVZga36LK9"
   },
   "outputs": [
    {
     "name": "stdout",
     "output_type": "stream",
     "text": [
      " cost:3913.456414925393, Theta0152.1273250890724, Theta1849.0608014939124\n"
     ]
    }
   ],
   "source": [
    "# gradient descent to find the optimal fit\n",
    "# TODO\n",
    "def mean_squared_error(y1,y_predicted):\n",
    "    cost = np.sum((y1-y_predicted)**2) / len(y1)\n",
    "    return cost\n",
    "iterations=500\n",
    "learning_rate=0.99\n",
    "c_weight=theta0\n",
    "c_bias=theta1\n",
    "n=len(X)\n",
    "costs,weights=[],[]\n",
    "for i in range(iterations):\n",
    "    y_new=(c_weight*X)+c_bias\n",
    "    c_cost=mean_squared_error(y,y_new)\n",
    "    costs.append(c_cost)\n",
    "    weights.append(c_weight)\n",
    "    weight_d= -(2/n)*sum(X*(y-y_new))\n",
    "    bias_d=-(2/n)*sum(y-y_new)\n",
    "    c_weight=c_weight-(learning_rate*weight_d)\n",
    "    c_bias=c_bias-(learning_rate*bias_d)\n",
    "print(f\" cost:{c_cost}, Theta0:{c_bias}, Theta1:{c_weight}\")"
   ]
  },
  {
   "cell_type": "markdown",
   "metadata": {
    "id": "OaY-iiB_7Ejd",
    "pycharm": {
     "name": "#%% md\n"
    }
   },
   "source": [
    "**Part IV** \n",
    "___________\n",
    "\n",
    "Plot the cost for each iteration.\n",
    "1. Plot title and xlabel, ylabel are required;\n",
    "2. Show the plot in the Output."
   ]
  },
  {
   "cell_type": "code",
   "execution_count": 51,
   "metadata": {
    "id": "CvGzEg2Q6yhs",
    "scrolled": true
   },
   "outputs": [
    {
     "data": {
      "image/png": "[encoded data removed]",
      "text/plain": [
       "<Figure size 432x288 with 1 Axes>"
      ]
     },
     "metadata": {
      "needs_background": "light"
     },
     "output_type": "display_data"
    }
   ],
   "source": [
    "# draw the cost change \n",
    "# TODO\n",
    "plt.title(\"Diabetes Prediction\")\n",
    "plt.plot(np.arange(iterations),costs)\n",
    "plt.xlabel(\"iterations\")\n",
    "plt.ylabel(\"Cost\")\n",
    "plt.show()"
   ]
  },
  {
   "cell_type": "markdown",
   "metadata": {
    "id": "DvTfZcSc8DMM",
    "pycharm": {
     "name": "#%% md\n"
    }
   },
   "source": [
    "**Part V** \n",
    "___________\n",
    "\n",
    "Based on the raw data plot you already drawn, plot the final linear regression model using the final version of theta.\n",
    "1. Plot title and xlabel, ylabel are required;\n",
    "2. Show the plot in the Output."
   ]
  },
  {
   "cell_type": "markdown",
   "metadata": {
    "id": "LOGCRUJW-95k"
   },
   "source": [
    "***Example plot***\n",
    "\n",
    "![download (5).png](data:image/png;base64,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)"
   ]
  },
  {
   "cell_type": "code",
   "execution_count": 52,
   "metadata": {
    "id": "JVPnMAme8-XU"
   },
   "outputs": [
    {
     "data": {
      "text/plain": [
       "[<matplotlib.lines.Line2D at 0x1ae811ae400>]"
      ]
     },
     "execution_count": 52,
     "metadata": {},
     "output_type": "execute_result"
    },
    {
     "data": {
      "image/png": "[encoded data removed]",
      "text/plain": [
       "<Figure size 432x288 with 1 Axes>"
      ]
     },
     "metadata": {
      "needs_background": "light"
     },
     "output_type": "display_data"
    }
   ],
   "source": [
    "# draw the final linear model\n",
    "# TODO\n",
    "plt.title(\"Diabetes Prediction\")\n",
    "plt.xlabel(\"Measured\")\n",
    "plt.ylabel(\"predicted\")\n",
    "plt.scatter(X,y)\n",
    "plt.plot(X,y_new,color=\"r\")"
   ]
  },
  {
   "cell_type": "code",
   "execution_count": null,
   "metadata": {},
   "outputs": [],
   "source": []
  }
 ],
 "metadata": {
  "colab": {
   "collapsed_sections": [],
   "provenance": []
  },
  "kernelspec": {
   "display_name": "Python 3 (ipykernel)",
   "language": "python",
   "name": "python3"
  },
  "language_info": {
   "codemirror_mode": {
    "name": "ipython",
    "version": 3
   },
   "file_extension": ".py",
   "mimetype": "text/x-python",
   "name": "python",
   "nbconvert_exporter": "python",
   "pygments_lexer": "ipython3",
   "version": "3.9.7"
  },
  "pycharm": {
   "stem_cell": {
    "cell_type": "raw",
    "metadata": {
     "collapsed": false
    },
    "source": []
   }
  }
 },
 "nbformat": 4,
 "nbformat_minor": 1
}

{
 "cells": [
  {
   "cell_type": "markdown",
   "metadata": {
    "id": "Z7_hx8SJJR4-"
   },
   "source": [
    "# Assignment 2 - Logistic Regression & Naive Bayes\n",
    "\n",
    "Due by 11:59pm, Oct 16, 2022"
   ]
  },
  {
   "cell_type": "markdown",
   "metadata": {
    "id": "pyGrk2X_J_1h"
   },
   "source": [
    "## Theory Questions (Full points: 40, each question 5 points)"
   ]
  },
  {
   "cell_type": "markdown",
   "metadata": {
    "id": "b8OnMEI0JXxA"
   },
   "source": [
    "1. Explain the importance of setting up learning rate in the gradient descent based methods. "
   ]
  },
  {
   "cell_type": "markdown",
   "metadata": {
    "id": "uv3iz5dBJX7Z"
   },
   "source": [
    "**Answer:**\n",
    "The gradient descent method is used to estimate the parameters in machine learning model. It is also known as an optimization technique. The Learning rate is an hyper parameter, we assign some specific value so that we can control the learning of the algorithm.In a model the learning rate is introduced to get a best fit model, which can learn by itself.\n",
    "\n",
    "In gradient descent, we will have model parameters such as theta0 and theta1, when we calculate the cost of a function if there is an error then we should change the model parameters using gradient descent technique, here the learning rate is nothing but steps towards the best fit model. It is used to control the rate at which an algorithm updates the parameter estimates or learns the values of the parameters.  \n"
   ]
  },
  {
   "cell_type": "markdown",
   "metadata": {
    "id": "wO8kErgCJX-P"
   },
   "source": [
    "2. What is the stochastic gradient descent? Why do we need stochastic gradient descent?"
   ]
  },
  {
   "cell_type": "markdown",
   "metadata": {
    "id": "nEviYAL2JeWs"
   },
   "source": [
    "**Answer:**\n",
    "The stochastic gradient descent only the some samples of data is selected from the dataset at each iteration, rather than taking the whole dataset like gradient descent. The word stochastic means 'random', to reduce the computation SGD will randomly picks a data point from the dataset at each iteration.\n",
    "\n",
    "The goal of both SGD and GD is to reach the minima. It does not matter how we reach there, the only thing we need to consider is the computation time on training dataset. The way the stochastic gradient descent follows is noisy, but it will be considered while the learning algorithm.\n"
   ]
  },
  {
   "cell_type": "markdown",
   "metadata": {
    "id": "9vQD3sgwJYBS"
   },
   "source": [
    "3. Explain the reasons to perform feature scaling."
   ]
  },
  {
   "cell_type": "markdown",
   "metadata": {
    "id": "t-e37RdDJfmd"
   },
   "source": [
    "**Answer:**\n",
    "When we initially collect features into dataset to train model. The different features have different ranges, some features have high range of values, and the model may assume it has more superiority. There will be many problems while training, so we will do feature scaling as part of data preprocessing, it will be used to normalize the data into an finite range. For instance, the 10 dollar’s is not equal to 10 gallons they are completely different, but the model is not aware of it and treats both as same."
   ]
  },
  {
   "cell_type": "markdown",
   "metadata": {
    "id": "dOqhvEpuJYEX"
   },
   "source": [
    "4. What is the probabilistic generative model?"
   ]
  },
  {
   "cell_type": "markdown",
   "metadata": {
    "id": "rf5JjDFDJe6G"
   },
   "source": [
    "**Answer:**\n",
    "In genarative model, what makes a model genarative is totally different in machine learning compared to applied statistics. It is defined as an pobabilistic model in machine learning,which varies from observation to observation in the entire space. if we take a conditional model it will not be generative because it lacks in probalistic model.The generative model can create new data cases."
   ]
  },
  {
   "cell_type": "markdown",
   "metadata": {
    "id": "W8V802XDJjxe"
   },
   "source": [
    "5. Explain how we perform maximum likelihood."
   ]
  },
  {
   "cell_type": "markdown",
   "metadata": {
    "id": "S3PrgB7kJl99"
   },
   "source": [
    "**Answer:**\n",
    "The maximum likelihood is an technique is used to solve problems like density estimation. The density estimation is a problem of approximating problem domain probability distribution for sample of observations. This technique can look for a space for possible distribution and parameters. This is method is foundation for many other machine learning algorithms like linear regression, logistic regression to predict their class labels. It is mostly used in deep learning, ANN. The maximum likelihood, we look at a problem as optimization or search for a set of variables that best fits the joint probability of the data samples."
   ]
  },
  {
   "cell_type": "markdown",
   "metadata": {
    "id": "3kUcM98LJj9N"
   },
   "source": [
    "6. Explain the reasons about using cross entropy loss in logistic regression."
   ]
  },
  {
   "cell_type": "markdown",
   "metadata": {
    "id": "xuECRF2PJk81"
   },
   "source": [
    "**Answer:**\n",
    "The cross entropy or log loss is an loss function used in logistic regression. It is used for training classification model, which is used to classify the given data by seeing the probability of predicting that belongs to which class. If the loss is high that indicates the predicted probability of class is different than actual class . The cross entropy loss is also termed as log loss. The MSE(mean square error) is also a loss fun but it cannot be used in classification.\n",
    "\n",
    "As there is no sigmoid derivative in the cross entropy derivative with regard to weight, the value of the derivative will only be based on the difference between actual and predicted results. Therefore, learning will occur more quickly since the derivative will initially have a large value due to the random weights, and once the error decreases, the derivative value will become tiny to prevent bouncing away from the global minima."
   ]
  },
  {
   "cell_type": "markdown",
   "metadata": {
    "id": "q8bCRVRaJkBP"
   },
   "source": [
    "7. Explain the differences between discriminative and generative model.\n"
   ]
  },
  {
   "cell_type": "markdown",
   "metadata": {
    "id": "R2KIVplzJlYt"
   },
   "source": [
    "**Answer:**\n",
    "Generative model:\n",
    "\n",
    "The generative model is used to generate new data instances. The model performance is measured by maximum likelihood technique. The distribution is good then model will be accurate, outliers effects the model accuracy badly. This uses very less data for training, and it also can create a model with missing data. ex-predict the next word in the sequence\n",
    "\n",
    "Discriminative model\n",
    "\n",
    "This model is used to discriminate between data gathered like labelling the data. These kind of models are having or modelling but strong against outliers. In here model needs more time and data to get model to be trained. In should be aware of all kinds of data to completely get trained.\n"
   ]
  },
  {
   "cell_type": "markdown",
   "metadata": {
    "id": "RCL0MZN6JkET"
   },
   "source": [
    "8. Bishop's Book \"Pattern Recognition and Machine learning\" - Exercise 4.9"
   ]
  },
  {
   "cell_type": "markdown",
   "metadata": {
    "id": "M-h519EbJmbz"
   },
   "source": [
    "**Answer:**\n",
    "The likelihood function is given by\n",
    "\n",
    "p({${φ_{0}},{t_{n}}$}|{${t_{n}}$})= ${∏^{n}_{n=1}}{∏^{k}_{k=1}} {p({φ_{n}}|C_{k})π_{k}}^{t_{nk}}$\n",
    "and taking the logarithm, we obtain\n",
    "\n",
    "ln p({${φ_{0}},{t_{n}}$}|{${t_{n}}$}) = ${∑^{n}_{n=1}}{∑^{k}_{k=1}}  {t_{nk}}${ln p(${φ_{n}}|C_{k}) π_{k}$}\n",
    "\n",
    "We must maintain the constraint in order to maximize the log likelihood with respect to k.${∑_{k}} {π_{k}}$=1  A Lagrange multiplier λ can be used to do this, thereby maximizing\n",
    "\n",
    "ln p({${φ_{0}},{t_{n}}$}|{${t_{n}}$}) + λ (${∑^{k}_{k=1}} πk − 1 $)\n",
    "\n",
    "Setting the derivative with respect to $π_{k}$ equal to zero, we obtain\n",
    "\n",
    " ${∑^{n}_{n=1}} {t_{nk}}$/${π_{k}}$+ λ = 0.\n",
    " \n",
    " Re-arranging then gives\n",
    "\n",
    " -${π_{k}}$λ =  ${∑^{n}_{n=1}} {t_{nk}}$ = ${N_{k}}$\n",
    "\n",
    "Summing both sides over k we find that λ = −N, and using this to eliminate λ we\n",
    "obtain (4.159)."
   ]
  },
  {
   "cell_type": "markdown",
   "metadata": {
    "id": "8AiWTVDf7cZ2"
   },
   "source": [
    "## Programming Questions (Full points: 60, each question 30 points)"
   ]
  },
  {
   "cell_type": "code",
   "execution_count": 1,
   "metadata": {
    "id": "hUXdV3L376cA"
   },
   "outputs": [],
   "source": [
    "# Do not edit the codes in this cell\n",
    "# load required library\n",
    "import matplotlib.pyplot as plt\n",
    "import numpy as np\n",
    "from sklearn.datasets import load_iris\n",
    "# load dataset\n",
    "x, y = load_iris(return_X_y=True)"
   ]
  },
  {
   "cell_type": "markdown",
   "metadata": {
    "id": "8iwaee_T-Urj"
   },
   "source": [
    "### - Logistic Regression"
   ]
  },
  {
   "cell_type": "code",
   "execution_count": 2,
   "metadata": {
    "id": "9M1DAu9XPY8E"
   },
   "outputs": [],
   "source": [
    "# Do not edit the codes in this cell\n",
    "# We use 100 samples and 2 features for logistic regression function\n",
    "x_lr = x[:100, :2] # class 0 and 1 balanced\n",
    "y_lr = y[:100]"
   ]
  },
  {
   "cell_type": "markdown",
   "metadata": {
    "id": "4LdQ5yubLJld"
   },
   "source": [
    "In the assignment 2, you have more freedom on your programming design. In this part, you are going to implement your own Logistic Regression function. You need to implement logistic regression with stochastic gradient descent from scratch. The required functions are listed below. You can add more functions as you need. **No library versions of logistic regression are allowed**. \n",
    "_________\n",
    "\n",
    "1. train_test_split\n",
    "\n",
    "**Randomly** split data into train and test set. 80% of the raw data will be the train set and 20% of the raw data will be the test set.\n",
    "\n",
    "2. sigmoid\n",
    "\n",
    "The core of logistic regression\n",
    "\n",
    "3. predict\n",
    "\n",
    "Predict an output value for a given x with a set of coefficients. \n",
    "\n",
    "4. accurate\n",
    "\n",
    "Calculate accuracy percentage of the predictions.\n",
    "\n",
    "5. coef_sgd\n",
    "\n",
    "Estimate logistic regression coefficients using **stochastic gradient descent**. Using **the cross entropy loss**. Carefully choose learning rate and epochs values.\n",
    "\n",
    "6. draw_model\n",
    "\n",
    "Plot the final logistic regression model using the final coefficients and raw datasets. Plot title and xlabel, ylabel are required. Show the plot in the Output.\n",
    "\n",
    "Print out your **testing accurate**. Is it good? If not, analyze the reason in short. \n"
   ]
  },
  {
   "cell_type": "code",
   "execution_count": 3,
   "metadata": {
    "id": "FeMvHu1L9Vmx"
   },
   "outputs": [],
   "source": [
    "from sklearn.model_selection import train_test_split\n",
    "\n",
    "def train_test_split_func():\n",
    "    \n",
    "    X_train, X_test, y_train, y_test = train_test_split(x_lr, y_lr, test_size = 0.2, random_state = 0)\n",
    "    return X_train, X_test, y_train, y_test\n",
    "\n",
    "\n",
    "def initialize_parameters():\n",
    "    wt = np.zeros_like(X_train[0])\n",
    "    bs = 0\n",
    "    return wt,bs\n",
    "\n",
    "def sigmoid(z):\n",
    "    zz=1/(1+np.exp(-z))\n",
    "    return zz\n",
    "\n",
    "def coef_sgd(wt,bs,x,y):\n",
    "    def dw_calculate(wt,bs,x,y):\n",
    "        z = np.dot(wt,x) + bs\n",
    "        a = sigmoid(z)\n",
    "        dw = x * (y - a)\n",
    "        return dw\n",
    "\n",
    "    def db_calculate(wt,bs,x,y):\n",
    "        z = np.dot(wt,x) + bs\n",
    "        a = sigmoid(z)\n",
    "        db = y - a\n",
    "        return db\n",
    "    \n",
    "    dw=dw_calculate(wt,bs,x,y)\n",
    "    db=db_calculate(wt,bs,x,y)\n",
    "    \n",
    "    return dw,db\n",
    "    \n",
    "def crossentropy_loss(y_true,y_pred):\n",
    "\n",
    "    SUM = 0\n",
    "    for i in range(len(y_true)):\n",
    "        SUM += (y_true[i] * np.log10(y_pred[i])) + ((1 - y_true[i]) * np.log10(1 - y_pred[i]))\n",
    "    loss = -1 * (1 / len(y_true)) * SUM\n",
    "    return loss\n",
    "  \n",
    "\n",
    "def predict(wt,x,bs):\n",
    "    z=np.dot(wt, x)+bs\n",
    "    A=sigmoid(z)\n",
    "    return A\n",
    "\n",
    "def train_model(X_train,y_train,X_test,y_test,number_of_epochs,lr_rate):\n",
    "\n",
    "    train_loss = []\n",
    "    test_loss = []\n",
    "    wt, bs = initialize_parameters()\n",
    "    \n",
    "    for i in range(number_of_epochs):\n",
    "        train_pred_record = []\n",
    "        test_pred_record = []\n",
    "        for j in range(N):\n",
    "            \n",
    "            dw,db = coef_sgd(wt,bs,X_train[j],y_train[j])\n",
    "            \n",
    "            wt = wt + (lr_rate * dw)\n",
    "            bs = bs + (lr_rate * db)\n",
    "            \n",
    "        for k in range(len(X_train)):\n",
    "        \n",
    "            A=predict(wt,X_train[k],bs)\n",
    "            train_pred_record.append(A)\n",
    "            \n",
    "        train_loss_val = crossentropy_loss(y_train, train_pred_record)\n",
    "        train_loss.append(train_loss_val)\n",
    "            \n",
    "        for k in range(len(X_test)):\n",
    "            \n",
    "            A=predict(wt,X_test[k],bs)\n",
    "            test_pred_record.append(A)\n",
    "            \n",
    "        test_loss_val = crossentropy_loss(y_test, test_pred_record)\n",
    "        test_loss.append(test_loss_val)\n",
    "\n",
    "    return wt,bs,train_loss,test_loss,test_pred_record,train_pred_record     \n",
    "\n",
    "\n",
    "learning_rate=0.09\n",
    "X_train, X_test, y_train, y_test=train_test_split_func()\n",
    "N=len(X_train)\n",
    "epochs=15\n",
    "\n",
    "wt,bs,train_log_loss,test_log_loss,test_pred_record,train_pred_record=train_model(X_train,y_train,X_test,y_test,epochs,learning_rate)"
   ]
  },
  {
   "cell_type": "code",
   "execution_count": 4,
   "metadata": {},
   "outputs": [
    {
     "data": {
      "image/png": "[encoded data removed]",
      "text/plain": [
       "<Figure size 432x288 with 1 Axes>"
      ]
     },
     "metadata": {
      "needs_background": "light"
     },
     "output_type": "display_data"
    }
   ],
   "source": [
    "from matplotlib import pyplot as plt\n",
    "\n",
    "def draw_model(e):\n",
    "    epoch = [i for i in range(1,e+1,1)]\n",
    "\n",
    "    plt.plot(epoch,train_log_loss , label='Train_cross_entropy_loss')\n",
    "    plt.plot(epoch,test_log_loss, label='Test_cross_entropy_loss')\n",
    "    plt.xlabel(\"Epoch number\")\n",
    "    plt.ylabel(\"Cross_entropy_loss\")\n",
    "    plt.legend()\n",
    "    plt.show\n",
    "\n",
    "draw_model(epochs)"
   ]
  },
  {
   "cell_type": "code",
   "execution_count": 5,
   "metadata": {},
   "outputs": [
    {
     "name": "stdout",
     "output_type": "stream",
     "text": [
      "The Testing metrics\n",
      "True positive,False positive,True negative,False negative= 10 0 10 0\n",
      "Accuracy= 1.0\n",
      "-\n",
      "-\n",
      "The Training metrics\n",
      "True positive,False positive,True negative,False negative= 40 1 39 0\n",
      "Accuracy= 0.9875\n",
      "-\n",
      "-\n",
      "Testing metrics are:\n",
      "Accuracy = 100%\n",
      "\n",
      "Training metrics are:\n",
      "Accuracy = 98.75%\n",
      "\n"
     ]
    }
   ],
   "source": [
    "def accurate(predictions,gt,flag):\n",
    "    tp=0\n",
    "    tn=0\n",
    "    fp=0\n",
    "    fn=0\n",
    "\n",
    "    for i in range(len(predictions)):\n",
    "        ps=predictions[i]\n",
    "        gg=gt[i]\n",
    "\n",
    "        if (gg==1 and ps==1):\n",
    "            tp=tp+1\n",
    "        elif (gg==1 and ps==0):\n",
    "            fn=fn+1\n",
    "        elif(gg==0 and ps==0):\n",
    "            tn=tn+1\n",
    "        elif(gg==0 and ps==1):\n",
    "            fp=fp+1\n",
    "    if flag==0:\n",
    "        print(\"The Training metrics\")\n",
    "    else:\n",
    "        print(\"The Testing metrics\")\n",
    "        \n",
    "    print(\"True positive,False positive,True negative,False negative=\",tp,fp,tn,fn)\n",
    "    accuracy=(tp+tn)/(tp+tn+fp+fn)\n",
    "    print(\"Accuracy=\",accuracy)\n",
    "    print(\"-\")\n",
    "    print(\"-\")\n",
    "    \n",
    "    \n",
    "\n",
    "\n",
    "predictions_test=np.where( np.array(test_pred_record) > 0.5, 1, 0 )\n",
    "predictions_train=np.where( np.array(train_pred_record) > 0.5, 1, 0 )\n",
    "\n",
    "accurate(predictions_test,y_test,1)\n",
    "accurate(predictions_train,y_train,0)\n",
    "print(\"Testing metrics are:\\nAccuracy = 100%\\n\")\n",
    "print(\"Training metrics are:\\nAccuracy = 98.75%\\n\")"
   ]
  },
  {
   "cell_type": "code",
   "execution_count": 6,
   "metadata": {},
   "outputs": [
    {
     "data": {
      "image/png": "[encoded data removed]",
      "text/plain": [
       "<Figure size 432x288 with 1 Axes>"
      ]
     },
     "metadata": {
      "needs_background": "light"
     },
     "output_type": "display_data"
    }
   ],
   "source": [
    "import matplotlib.pyplot as plt\n",
    "import seaborn as sns\n",
    "sns.regplot(x=X_test[:,0], y=predictions_test, data=X_test, logistic=True, ci=None)\n",
    "plt.xlabel('Sepal Length is in cm')\n",
    "plt.ylabel('Class of IRIS Plant')\n",
    "plt.title('Logistic Regression Model on IRIS Dataset')\n",
    "plt.show()"
   ]
  },
  {
   "cell_type": "code",
   "execution_count": 7,
   "metadata": {},
   "outputs": [
    {
     "data": {
      "image/png": "[encoded data removed]",
      "text/plain": [
       "<Figure size 432x288 with 1 Axes>"
      ]
     },
     "metadata": {
      "needs_background": "light"
     },
     "output_type": "display_data"
    }
   ],
   "source": [
    "sns.regplot(x=X_test[:,1], y=predictions_test, data=X_test, logistic=True, ci=None)\n",
    "plt.xlabel('Sepal Width in cm')\n",
    "plt.ylabel('Class of IRIS Plant')\n",
    "plt.title('Logistic Regression Model on IRIS Dataset')\n",
    "plt.show()"
   ]
  },
  {
   "cell_type": "code",
   "execution_count": 8,
   "metadata": {},
   "outputs": [
    {
     "data": {
      "image/png": "[encoded data removed]",
      "text/plain": [
       "<Figure size 432x288 with 1 Axes>"
      ]
     },
     "metadata": {
      "needs_background": "light"
     },
     "output_type": "display_data"
    }
   ],
   "source": [
    "x_ax = np.arange(X_test[:, 0].min()-1, X_test[:, 0].max()+1, 0.01)\n",
    "weight1 = wt[0]\n",
    "weight2 = wt[1]\n",
    "bs = bs\n",
    "plt.plot(x_ax, -weight1*x_ax/weight2 - bs/weight2, color='black')\n",
    "\n",
    "\n",
    "setosa = np.where(y_test == 0)\n",
    "versicolor = np.where(y_test == 1)\n",
    "\n",
    "plt.scatter(X_test[setosa, 0], X_test[setosa, 1],\n",
    "            color='red', marker='o', label='setosa')\n",
    "plt.scatter(X_test[versicolor, 0], X_test[versicolor, 1],\n",
    "            color='blue', marker='x', label='versicolor')\n",
    "plt.title('Logistic Regression Model IRIS Dataset')\n",
    "plt.xlabel('Sepal Length in cm')\n",
    "plt.ylabel('Sepal Width in cm')\n",
    "plt.legend(loc='upper right')\n",
    "plt.show()"
   ]
  },
  {
   "cell_type": "markdown",
   "metadata": {
    "id": "7eNsYoFL7pOG"
   },
   "source": [
    "### - Naive Bayes Classifier"
   ]
  },
  {
   "cell_type": "markdown",
   "metadata": {
    "id": "HTuXPz9V8jIA"
   },
   "source": [
    "In this part, you are going to implement your own naive bayes classifier. \n",
    "You need to implement naive bayes classifier from scratch **using the whole imported iris datasets x and y**. The required functions are listed below. You can add more functions as you need. **No library versions of naive bayes classifier are allowed**. \n",
    "_________\n",
    "\n",
    "1. cross_validation_split\n",
    "\n",
    "**Randomly** split data into 5 folds. That means 30 records will be in each fold.\n",
    "\n",
    "2. predict\n",
    "\n",
    "Predict the class label for a given x. \n",
    "\n",
    "3. accurate\n",
    "\n",
    "Calculate accuracy percentage of the predictions. Remember to average the results of k folds\n",
    "\n",
    "4. gaussian_probability\n",
    "\n",
    "Calculate the Gaussian probability distribution function for the given x. \n",
    "\n",
    "![Image_20210920015911.png](data:image/png;base64,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)\n",
    "\n",
    "\n",
    "5. class_probability\n",
    "\n",
    "Calculate the probabilities of predicting each class for a given x using naive bayes algorithm. Be aware that we have multiple input variables. And you may want to use gaussian_probability function here.\n",
    "\n",
    "*Print out your accuracy result. Is it good? If not, analyze the reason in short. *\n"
   ]
  },
  {
   "cell_type": "code",
   "execution_count": 9,
   "metadata": {
    "id": "f-jO9XrADS92"
   },
   "outputs": [
    {
     "name": "stdout",
     "output_type": "stream",
     "text": [
      "The Mean Accuracy= 96.66666666666667\n",
      "Accuracy is good\n"
     ]
    }
   ],
   "source": [
    "from math import sqrt\n",
    "from math import exp\n",
    "from math import pi\n",
    "import random\n",
    "\n",
    "def cross_valid_split(dataset, n_folds):\n",
    "    dset_split = list()\n",
    "    dset_copy = dataset\n",
    "\n",
    "    fold_size = int(len(dataset) / n_folds)\n",
    "    for zz in range(n_folds):\n",
    "        fold = list()\n",
    "        while len(fold) < fold_size:\n",
    "            index = random.randrange(len(dset_copy))\n",
    "            fold.append(dset_copy.pop(index))\n",
    "        dset_split.append(fold)\n",
    "    return dset_split\n",
    "\n",
    "\n",
    "def accurate(gt, pred):\n",
    "    c_match = 0\n",
    "    for i in range(len(gt)):\n",
    "        if gt[i] == pred[i]:\n",
    "            c_match += 1\n",
    "    return c_match / float(len(gt)) * 100.0\n",
    "\n",
    "\n",
    "def build_test_algo(dataset, NB_algo, n_folds, *args):\n",
    "    folds = cross_valid_split(dataset, n_folds)\n",
    "    s_record = list()\n",
    "    for fold in folds:\n",
    "        train_set = list(folds)\n",
    "        train_set.remove(fold)\n",
    "        train_set = sum(train_set, [])\n",
    "        test_set = list()\n",
    "        for row in fold:\n",
    "            row_copy = list(row)\n",
    "            test_set.append(row_copy)\n",
    "\n",
    "\n",
    "        preds = NB_algo(train_set, test_set, *args)\n",
    "        gt = [row[-1] for row in fold]\n",
    "        accuracy_val = accurate(gt, preds)\n",
    "    s_record.append(accuracy_val)\n",
    "    return s_record\n",
    "\n",
    "\n",
    "def separation_classwise(dataset):\n",
    "    \n",
    "    separated_dict = dict()\n",
    "    for i in range(len(dataset)):\n",
    "        vec = dataset[i]\n",
    "        class_lab = vec[-1]\n",
    "        if (class_lab not in separated_dict):\n",
    "            separated_dict[class_lab] = list()\n",
    "        separated_dict[class_lab].append(vec)\n",
    "    return separated_dict\n",
    "\n",
    "\n",
    "def mean(nums):\n",
    "    return sum(nums)/float(len(nums))\n",
    "\n",
    "\n",
    "def standard_dev(nums):\n",
    "    avg = mean(nums)\n",
    "    var = sum([(x-avg)**2 for x in nums]) / float(len(nums)-1)\n",
    "    return sqrt(var)\n",
    "\n",
    "\n",
    "def summarizing_dataset(dataset):\n",
    "\n",
    "    summaries = [(mean(column), standard_dev(column), len(column)) for column in zip(*dataset)]\n",
    "    del(summaries[-1])\n",
    "\n",
    "    return summaries\n",
    "\n",
    "\n",
    "def summarization_classwise(dataset):\n",
    "    separated = separation_classwise(dataset)\n",
    "\n",
    "    summaries_of_individual_classes = dict()\n",
    "    for class_val, rows in separated.items():\n",
    "\n",
    "        summaries_of_individual_classes[class_val] = summarizing_dataset(rows)\n",
    "\n",
    "        \n",
    "    return summaries_of_individual_classes\n",
    "\n",
    "\n",
    "def gaussian_probability(x, mean, standard_dev):\n",
    "    exponent = exp(-((x-mean)**2 / (2 * standard_dev**2 )))\n",
    "    return (1 / (sqrt(2 * pi) * standard_dev)) * exponent\n",
    "\n",
    "\n",
    "def class_probability(summaries, row):\n",
    "\n",
    "\n",
    "    total_rows = sum([summaries[label][0][2] for label in summaries])\n",
    "    prob_dict = dict()\n",
    "\n",
    "    for class_value, class_summaries in summaries.items():\n",
    "        prob_dict[class_value] = summaries[class_value][0][2]/float(total_rows)\n",
    "        for i in range(len(class_summaries)):\n",
    "            mean, stdev, _ = class_summaries[i]\n",
    "            prob_dict[class_value] *= gaussian_probability(row[i], mean, stdev)\n",
    "    return prob_dict\n",
    "\n",
    "\n",
    "def predict(summaries, row):\n",
    "    probabilities = class_probability(summaries, row)\n",
    "    best_class_label, best_probability = None, -1\n",
    "    for class_value, prob in probabilities.items():\n",
    "        if best_class_label is None or prob > best_probability:\n",
    "            best_probability = prob\n",
    "            best_class_label = class_value\n",
    "    return best_class_label\n",
    "\n",
    "\n",
    "def Naive_Bayes_Algo(train_data, test_data):\n",
    "    summarize = summarization_classwise(train_data)\n",
    "    predictions_list = list()\n",
    "\n",
    "    for row in test_data:\n",
    "        output_result = predict(summarize, row)\n",
    "        predictions_list.append(output_result)\n",
    "    return(predictions_list)\n",
    "\n",
    "\n",
    "from sklearn.datasets import load_iris\n",
    "x, y = load_iris(return_X_y=True)\n",
    "x=x.tolist()\n",
    "y=y.tolist()\n",
    "dataset=[]\n",
    "for i in range(len(x)):\n",
    "    s=x[i]\n",
    "    s.extend([y[i]])\n",
    "    dataset.append(s)\n",
    "\n",
    "num_of_folds = 5\n",
    "\n",
    "scores_vals = build_test_algo(dataset, Naive_Bayes_Algo, num_of_folds)\n",
    "\n",
    "print(\"The Mean Accuracy=\", (sum(scores_vals)/float(len(scores_vals))))\n",
    "print(\"Accuracy is good\")"
   ]
  },
  {
   "cell_type": "code",
   "execution_count": null,
   "metadata": {},
   "outputs": [],
   "source": []
  }
 ],
 "metadata": {
  "colab": {
   "collapsed_sections": [],
   "provenance": []
  },
  "kernelspec": {
   "display_name": "Python 3 (ipykernel)",
   "language": "python",
   "name": "python3"
  },
  "language_info": {
   "codemirror_mode": {
    "name": "ipython",
    "version": 3
   },
   "file_extension": ".py",
   "mimetype": "text/x-python",
   "name": "python",
   "nbconvert_exporter": "python",
   "pygments_lexer": "ipython3",
   "version": "3.9.7"
  },
  "pycharm": {
   "stem_cell": {
    "cell_type": "raw",
    "metadata": {
     "collapsed": false
    },
    "source": []
   }
  }
 },
 "nbformat": 4,
 "nbformat_minor": 1
}
